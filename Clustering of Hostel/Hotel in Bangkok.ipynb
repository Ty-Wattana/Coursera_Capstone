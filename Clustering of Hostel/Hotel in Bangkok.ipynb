{
    "cells": [
        {
            "cell_type": "markdown",
            "metadata": {
                "collapsed": true
            },
            "source": "# The Spatial Configuration of Guesthouse in Bangkok, Thailand"
        },
        {
            "cell_type": "markdown",
            "metadata": {},
            "source": "##### This project is the part of capstone project in the \"Coursera IBM Data Science Professional specialization\"."
        },
        {
            "cell_type": "markdown",
            "metadata": {},
            "source": "## Introduction"
        },
        {
            "cell_type": "markdown",
            "metadata": {},
            "source": "Bangkok is one of the top tourist destination cities in the world. In 2019, it was ranked to be the 1st\nworld&#39;s most-visited cities surpassing Paris and London with 22.78 million visitors. The city offers\nthe tourist many historical and cultural sights to see, dynamic nightlife shopping and relaxation.\nHowever local experience travel is one of five travel trends for 2020, the travelers want to find\nauthentic experiences. Many travelers prefer privacy and a comfortable way of renting their own\naccommodations in private apartments or houses. The guesthouse is a new trend of accommodation\nfor travelers who desire simple accommodation and local experience during their stay and also in\norder to avoid crowded places and the tourist masses. In Bangkok there are a lot of places and\ncommunities to explore, thus guesthouse promotion policy is essential for building a new tourism\ninfrastructure to attract the new trend of tourism."
        },
        {
            "cell_type": "markdown",
            "metadata": {},
            "source": "This project aims to explore the neighborhood around guesthouses in Bangkok and cluster them\naccording to the venues surrounded by. The venues close to them indicate how guesthouse takes\nadvantage of their neighborhood and how travelers choose their guesthouse. For example, the\ncluster with the highest number of guesthouses may have a lot of goods and services venue\ncategory in their area while the other cluster with fewer guesthouses may facing an\nabsence of goods and services venue in their area. This data insight can indicate that food venues are essential\nfor establishing the guesthouse and essential for backpacker rental decisions. City planners or\npolicymakers can use this analysis to form guesthouse promotion policy as well as guesthouse\nentrepreneurs who can use this analysis to find the optimal location to settle their guesthouse."
        },
        {
            "cell_type": "markdown",
            "metadata": {},
            "source": "## Data Section"
        },
        {
            "cell_type": "markdown",
            "metadata": {},
            "source": "This project utilize Foursquare location data to perform analysis since it is an opensource platform and it has the data neccesary for this analysis. However Foursquare have some limitations in that most vanues data are in food shop and service categories which can make a bias in the result. Therefor future research may use Google place, Yalp or administrative data combine with Foursquare to have a better comprehensive analysis."
        },
        {
            "cell_type": "markdown",
            "metadata": {},
            "source": "The neccesary data sets consist of\n    1. List of guesthouse in Bangkok and their geographical coordinates\n    2. List of venue types surrounding each guesthouse in 1000 metres radius\n\nThe 1000 metres radius was chosen because it is a reasonable walking distance."
        },
        {
            "cell_type": "code",
            "execution_count": null,
            "metadata": {},
            "outputs": [],
            "source": ""
        }
    ],
    "metadata": {
        "kernelspec": {
            "display_name": "Python 3.6",
            "language": "python",
            "name": "python3"
        },
        "language_info": {
            "codemirror_mode": {
                "name": "ipython",
                "version": 3
            },
            "file_extension": ".py",
            "mimetype": "text/x-python",
            "name": "python",
            "nbconvert_exporter": "python",
            "pygments_lexer": "ipython3",
            "version": "3.6.9"
        }
    },
    "nbformat": 4,
    "nbformat_minor": 1
}